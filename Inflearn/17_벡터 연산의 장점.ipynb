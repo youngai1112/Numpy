{
 "cells": [
  {
   "cell_type": "code",
   "execution_count": 1,
   "metadata": {},
   "outputs": [],
   "source": [
    "import numpy as np\n",
    "import time"
   ]
  },
  {
   "cell_type": "code",
   "execution_count": 2,
   "metadata": {},
   "outputs": [],
   "source": [
    "arr = np.arange(99999999)"
   ]
  },
  {
   "cell_type": "code",
   "execution_count": 3,
   "metadata": {},
   "outputs": [
    {
     "name": "stderr",
     "output_type": "stream",
     "text": [
      "C:\\Users\\easya\\AppData\\Local\\Temp\\ipykernel_8424\\3297229588.py:5: RuntimeWarning: overflow encountered in long_scalars\n",
      "  sum += i\n"
     ]
    },
    {
     "name": "stdout",
     "output_type": "stream",
     "text": [
      "787459713 20.431811809539795 초\n"
     ]
    }
   ],
   "source": [
    "# for\n",
    "sum = 0;\n",
    "before = time.time()\n",
    "for i in arr:\n",
    "    sum += i\n",
    "after = time.time()\n",
    "print(sum, after - before, \"초\")"
   ]
  },
  {
   "cell_type": "code",
   "execution_count": null,
   "metadata": {},
   "outputs": [],
   "source": []
  }
 ],
 "metadata": {
  "interpreter": {
   "hash": "237dfbe96289c26a34bb3817ed9a5dda5a1f28f78dcc25894f58473fa7732fcf"
  },
  "kernelspec": {
   "display_name": "Python 3.8.8 64-bit",
   "language": "python",
   "name": "python3"
  },
  "language_info": {
   "codemirror_mode": {
    "name": "ipython",
    "version": 3
   },
   "file_extension": ".py",
   "mimetype": "text/x-python",
   "name": "python",
   "nbconvert_exporter": "python",
   "pygments_lexer": "ipython3",
   "version": "3.8.8"
  },
  "orig_nbformat": 4
 },
 "nbformat": 4,
 "nbformat_minor": 2
}
