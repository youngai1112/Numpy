{
 "cells": [
  {
   "cell_type": "code",
   "execution_count": 5,
   "metadata": {},
   "outputs": [
    {
     "name": "stdout",
     "output_type": "stream",
     "text": [
      "[1. 2. 3.] float64\n"
     ]
    },
    {
     "name": "stderr",
     "output_type": "stream",
     "text": [
      "C:\\Users\\easya\\AppData\\Local\\Temp\\ipykernel_2672\\3414493499.py:5: DeprecationWarning: `np.float` is a deprecated alias for the builtin `float`. To silence this warning, use `float` by itself. Doing this will not modify any behavior and is safe. If you specifically wanted the numpy scalar type, use `np.float64` here.\n",
      "Deprecated in NumPy 1.20; for more details and guidance: https://numpy.org/devdocs/release/1.20.0-notes.html#deprecations\n",
      "  arr = np.array([1,2,3], dtype=np.float)     # 데이터가 실수형으로 출력된다.\n"
     ]
    }
   ],
   "source": [
    "import numpy as np\n",
    "\n",
    "# 1차원 넘파이 배열을 생성하고 출력하면, 넘파이가 자동으로 이 배열의 데이터 형을 인식해서 정수형으로 출력해준다\n",
    "# 데이터 형식을 지정하기 위해서는 array 함수의 인자로 dtype을 사용한다.\n",
    "arr = np.array([1,2,3], dtype=np.float)     # 데이터가 실수형으로 출력된다.\n",
    "# float64 : 해당 array에 각 성분을 표현할 때 메모리 상에 몇 bit를 사용할 것인지를 나타내는 수\n",
    "print(arr, arr.dtype)"
   ]
  },
  {
   "cell_type": "code",
   "execution_count": 6,
   "metadata": {},
   "outputs": [
    {
     "name": "stdout",
     "output_type": "stream",
     "text": [
      "[1 2 3] int32\n"
     ]
    },
    {
     "name": "stderr",
     "output_type": "stream",
     "text": [
      "C:\\Users\\easya\\AppData\\Local\\Temp\\ipykernel_2672\\249849904.py:1: DeprecationWarning: `np.int` is a deprecated alias for the builtin `int`. To silence this warning, use `int` by itself. Doing this will not modify any behavior and is safe. When replacing `np.int`, you may wish to use e.g. `np.int64` or `np.int32` to specify the precision. If you wish to review your current use, check the release note link for additional information.\n",
      "Deprecated in NumPy 1.20; for more details and guidance: https://numpy.org/devdocs/release/1.20.0-notes.html#deprecations\n",
      "  arr = np.array([1.1, 2.2, 3.3], dtype=np.int)\n"
     ]
    }
   ],
   "source": [
    "# dtype : int\n",
    "arr = np.array([1.1, 2.2, 3.3], dtype=np.int)   \n",
    "print(arr, arr.dtype)"
   ]
  },
  {
   "cell_type": "code",
   "execution_count": 7,
   "metadata": {},
   "outputs": [
    {
     "name": "stdout",
     "output_type": "stream",
     "text": [
      "[False  True  True] bool\n"
     ]
    },
    {
     "name": "stderr",
     "output_type": "stream",
     "text": [
      "C:\\Users\\easya\\AppData\\Local\\Temp\\ipykernel_2672\\3157341389.py:2: DeprecationWarning: `np.bool` is a deprecated alias for the builtin `bool`. To silence this warning, use `bool` by itself. Doing this will not modify any behavior and is safe. If you specifically wanted the numpy scalar type, use `np.bool_` here.\n",
      "Deprecated in NumPy 1.20; for more details and guidance: https://numpy.org/devdocs/release/1.20.0-notes.html#deprecations\n",
      "  arr = np.array([0, 1, 1], dtype=np.bool)\n"
     ]
    }
   ],
   "source": [
    "# dtype : boolean\n",
    "arr = np.array([0, 1, 1], dtype=np.bool)   \n",
    "print(arr, arr.dtype)"
   ]
  },
  {
   "cell_type": "code",
   "execution_count": 9,
   "metadata": {},
   "outputs": [
    {
     "name": "stdout",
     "output_type": "stream",
     "text": [
      "[0 1 2 3] int32\n",
      "[0. 1. 2. 3.] float32\n"
     ]
    }
   ],
   "source": [
    "# 정수 배열을 실수 형태로 변경\n",
    "arr = np.array([0,1,2,3])\n",
    "print(arr, arr.dtype)\n",
    "\n",
    "arr = arr.astype(np.float32)\n",
    "print(arr, arr.dtype)"
   ]
  },
  {
   "cell_type": "code",
   "execution_count": 12,
   "metadata": {},
   "outputs": [
    {
     "data": {
      "text/plain": [
       "[1, 2, 3.4]"
      ]
     },
     "execution_count": 12,
     "metadata": {},
     "output_type": "execute_result"
    }
   ],
   "source": [
    "# 파이썬 리스트 형은 여러가지 type들을 담을 수 있다.\n",
    "[1, 2, 3.4]"
   ]
  },
  {
   "cell_type": "code",
   "execution_count": 15,
   "metadata": {},
   "outputs": [
    {
     "name": "stdout",
     "output_type": "stream",
     "text": [
      "[1.  2.  3.4] float64\n",
      "['1' '2' '3.4' '64'] <U32\n",
      "[ 1  2  3 64] int32\n"
     ]
    }
   ],
   "source": [
    "# numpy의 array는 단일 데이터 타입만 담을 수 있다. \n",
    "# 데이터 타입이 혼재하는 경우\n",
    "arr = np.array([1,2, 3.4])\n",
    "print(arr, arr.dtype)\n",
    "\n",
    "# 문자열 > 유니코드 형식으로 변경\n",
    "arr = np.array([1, 2, 3.4, \"64\"])\n",
    "print(arr, arr.dtype)\n",
    "\n",
    "# 데이터 타입이 혼재하는 경우 데이터 타입 변경\n",
    "arr = np.array([1, 2, 3.4, \"64\"], dtype=int)\n",
    "print(arr, arr.dtype)"
   ]
  },
  {
   "cell_type": "code",
   "execution_count": 16,
   "metadata": {},
   "outputs": [
    {
     "ename": "ValueError",
     "evalue": "invalid literal for int() with base 10: '64 문자열'",
     "output_type": "error",
     "traceback": [
      "\u001b[1;31m---------------------------------------------------------------------------\u001b[0m",
      "\u001b[1;31mValueError\u001b[0m                                Traceback (most recent call last)",
      "\u001b[1;32mc:\\Workspace\\Numpy\\Inflearn\\04_N차원 배열의 데이터 타입.ipynb Cell 7'\u001b[0m in \u001b[0;36m<cell line: 2>\u001b[1;34m()\u001b[0m\n\u001b[0;32m      <a href='vscode-notebook-cell:/c%3A/Workspace/Numpy/Inflearn/04_N%EC%B0%A8%EC%9B%90%20%EB%B0%B0%EC%97%B4%EC%9D%98%20%EB%8D%B0%EC%9D%B4%ED%84%B0%20%ED%83%80%EC%9E%85.ipynb#ch0000007?line=0'>1</a>\u001b[0m \u001b[39m# 데이터 타입이 혼재하는 경우\u001b[39;00m\n\u001b[1;32m----> <a href='vscode-notebook-cell:/c%3A/Workspace/Numpy/Inflearn/04_N%EC%B0%A8%EC%9B%90%20%EB%B0%B0%EC%97%B4%EC%9D%98%20%EB%8D%B0%EC%9D%B4%ED%84%B0%20%ED%83%80%EC%9E%85.ipynb#ch0000007?line=1'>2</a>\u001b[0m arr \u001b[39m=\u001b[39m np\u001b[39m.\u001b[39;49marray([\u001b[39m1\u001b[39;49m, \u001b[39m2\u001b[39;49m, \u001b[39m3.4\u001b[39;49m, \u001b[39m\"\u001b[39;49m\u001b[39m64 문자열\u001b[39;49m\u001b[39m\"\u001b[39;49m], dtype\u001b[39m=\u001b[39;49m\u001b[39mint\u001b[39;49m)\n\u001b[0;32m      <a href='vscode-notebook-cell:/c%3A/Workspace/Numpy/Inflearn/04_N%EC%B0%A8%EC%9B%90%20%EB%B0%B0%EC%97%B4%EC%9D%98%20%EB%8D%B0%EC%9D%B4%ED%84%B0%20%ED%83%80%EC%9E%85.ipynb#ch0000007?line=2'>3</a>\u001b[0m \u001b[39mprint\u001b[39m(arr, arr\u001b[39m.\u001b[39mdtype)\n",
      "\u001b[1;31mValueError\u001b[0m: invalid literal for int() with base 10: '64 문자열'"
     ]
    }
   ],
   "source": [
    "# 데이터 타입이 혼재하는 경우\n",
    "arr = np.array([1, 2, 3.4, \"64 문자열\"], dtype=int)\n",
    "print(arr, arr.dtype)"
   ]
  },
  {
   "cell_type": "code",
   "execution_count": null,
   "metadata": {},
   "outputs": [],
   "source": []
  }
 ],
 "metadata": {
  "interpreter": {
   "hash": "237dfbe96289c26a34bb3817ed9a5dda5a1f28f78dcc25894f58473fa7732fcf"
  },
  "kernelspec": {
   "display_name": "Python 3.8.8 64-bit",
   "language": "python",
   "name": "python3"
  },
  "language_info": {
   "codemirror_mode": {
    "name": "ipython",
    "version": 3
   },
   "file_extension": ".py",
   "mimetype": "text/x-python",
   "name": "python",
   "nbconvert_exporter": "python",
   "pygments_lexer": "ipython3",
   "version": "3.8.8"
  },
  "orig_nbformat": 4
 },
 "nbformat": 4,
 "nbformat_minor": 2
}
