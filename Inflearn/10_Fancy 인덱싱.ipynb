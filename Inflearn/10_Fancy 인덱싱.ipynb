{
 "cells": [
  {
   "cell_type": "code",
   "execution_count": 1,
   "metadata": {},
   "outputs": [
    {
     "name": "stdout",
     "output_type": "stream",
     "text": [
      "[ 5 15 25]\n"
     ]
    }
   ],
   "source": [
    "# 특정 인덱스를 여러 개 선택해서 탐색하는 방법\n",
    "# 1 차원 배열\n",
    "import numpy as np\n",
    "\n",
    "arr = np.array([5,10,15,20,25,30])\n",
    "print(arr[[0,2,4]])     # 0번째, 2번째, 4번째 원소를 가지고 오겠다는 의미"
   ]
  },
  {
   "cell_type": "code",
   "execution_count": 2,
   "metadata": {},
   "outputs": [
    {
     "name": "stdout",
     "output_type": "stream",
     "text": [
      "[[15 20]\n",
      " [55 60]]\n",
      "[[35 40]\n",
      " [55 60]]\n"
     ]
    }
   ],
   "source": [
    "# 2차원 배열\n",
    "arr = np.array([[5,10,15,20],\n",
    "                [25,30,35,40],\n",
    "                [45,50,55,60]])\n",
    "print(arr[[0,2], 2:])\n",
    "print(arr[1:, [2,3]])"
   ]
  },
  {
   "cell_type": "code",
   "execution_count": null,
   "metadata": {},
   "outputs": [],
   "source": []
  }
 ],
 "metadata": {
  "interpreter": {
   "hash": "237dfbe96289c26a34bb3817ed9a5dda5a1f28f78dcc25894f58473fa7732fcf"
  },
  "kernelspec": {
   "display_name": "Python 3.8.8 64-bit",
   "language": "python",
   "name": "python3"
  },
  "language_info": {
   "codemirror_mode": {
    "name": "ipython",
    "version": 3
   },
   "file_extension": ".py",
   "mimetype": "text/x-python",
   "name": "python",
   "nbconvert_exporter": "python",
   "pygments_lexer": "ipython3",
   "version": "3.8.8"
  },
  "orig_nbformat": 4
 },
 "nbformat": 4,
 "nbformat_minor": 2
}
