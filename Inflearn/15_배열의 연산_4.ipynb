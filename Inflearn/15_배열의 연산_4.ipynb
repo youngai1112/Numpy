{
 "cells": [
  {
   "cell_type": "code",
   "execution_count": 1,
   "metadata": {},
   "outputs": [],
   "source": [
    "import numpy as np"
   ]
  },
  {
   "cell_type": "code",
   "execution_count": 5,
   "metadata": {},
   "outputs": [
    {
     "name": "stdout",
     "output_type": "stream",
     "text": [
      "[[ True False  True]\n",
      " [ True False False]]\n",
      "[[False  True False]\n",
      " [False  True False]]\n",
      "[[ True  True  True]\n",
      " [ True  True False]]\n",
      "False\n"
     ]
    }
   ],
   "source": [
    "# 비교 연산\n",
    "arr1 = np.array([[1,2,3],\n",
    "                 [4,5,6]])\n",
    "arr2 = np.array([[1,0,3],\n",
    "                 [4,-2,9]])\n",
    "print(arr1 == arr2)\n",
    "print(arr1 > arr2)\n",
    "print(arr1 >= arr2)\n",
    "print(np.array_equal(arr1, arr2))"
   ]
  },
  {
   "cell_type": "code",
   "execution_count": 6,
   "metadata": {},
   "outputs": [
    {
     "name": "stdout",
     "output_type": "stream",
     "text": [
      "[[ 0.84147098  0.90929743  0.14112001]\n",
      " [-0.7568025  -0.95892427 -0.2794155 ]]\n",
      "[[ 0.54030231 -0.41614684 -0.9899925 ]\n",
      " [-0.65364362  0.28366219  0.96017029]]\n",
      "[[ 1.55740772 -2.18503986 -0.14254654]\n",
      " [ 1.15782128 -3.38051501 -0.29100619]]\n",
      "3.141592653589793\n"
     ]
    }
   ],
   "source": [
    "# 삼각 함수\n",
    "arr = np.array([[1,2,3],\n",
    "                [4,5,6]])\n",
    "\n",
    "# sin()\n",
    "print(np.sin(arr))\n",
    "# cos()\n",
    "print(np.cos(arr))\n",
    "# tan()\n",
    "print(np.tan(arr))\n",
    "# pi()\n",
    "print(np.pi)"
   ]
  },
  {
   "cell_type": "code",
   "execution_count": null,
   "metadata": {},
   "outputs": [],
   "source": []
  }
 ],
 "metadata": {
  "interpreter": {
   "hash": "237dfbe96289c26a34bb3817ed9a5dda5a1f28f78dcc25894f58473fa7732fcf"
  },
  "kernelspec": {
   "display_name": "Python 3.8.8 64-bit",
   "language": "python",
   "name": "python3"
  },
  "language_info": {
   "codemirror_mode": {
    "name": "ipython",
    "version": 3
   },
   "file_extension": ".py",
   "mimetype": "text/x-python",
   "name": "python",
   "nbconvert_exporter": "python",
   "pygments_lexer": "ipython3",
   "version": "3.8.8"
  },
  "orig_nbformat": 4
 },
 "nbformat": 4,
 "nbformat_minor": 2
}
