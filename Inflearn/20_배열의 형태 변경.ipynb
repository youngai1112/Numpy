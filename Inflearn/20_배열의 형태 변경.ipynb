{
 "cells": [
  {
   "cell_type": "code",
   "execution_count": 1,
   "metadata": {},
   "outputs": [],
   "source": [
    "import numpy as np"
   ]
  },
  {
   "cell_type": "code",
   "execution_count": 6,
   "metadata": {},
   "outputs": [
    {
     "name": "stdout",
     "output_type": "stream",
     "text": [
      "[ 0  1  2  3  4  5  6  7  8  9 10 11] 1\n",
      "[[ 0  1  2  3]\n",
      " [ 4  5  6  7]\n",
      " [ 8  9 10 11]] 2\n",
      "[[[ 0  1]\n",
      "  [ 2  3]\n",
      "  [ 4  5]]\n",
      "\n",
      " [[ 6  7]\n",
      "  [ 8  9]\n",
      "  [10 11]]] 3\n",
      "[[[[ 0  1  2]]\n",
      "\n",
      "  [[ 3  4  5]]]\n",
      "\n",
      "\n",
      " [[[ 6  7  8]]\n",
      "\n",
      "  [[ 9 10 11]]]] 4\n"
     ]
    }
   ],
   "source": [
    "arr = np.arange(12)\n",
    "print(arr, arr.ndim)\n",
    "\n",
    "arr = arr.reshape((3,4))\n",
    "print(arr, arr.ndim)\n",
    "\n",
    "arr = arr.reshape((2,3,2))\n",
    "print(arr, arr.ndim)\n",
    "\n",
    "arr = arr.reshape((2,2,1,3))\n",
    "print(arr, arr.ndim)"
   ]
  },
  {
   "cell_type": "code",
   "execution_count": null,
   "metadata": {},
   "outputs": [],
   "source": []
  }
 ],
 "metadata": {
  "interpreter": {
   "hash": "237dfbe96289c26a34bb3817ed9a5dda5a1f28f78dcc25894f58473fa7732fcf"
  },
  "kernelspec": {
   "display_name": "Python 3.8.8 64-bit",
   "language": "python",
   "name": "python3"
  },
  "language_info": {
   "codemirror_mode": {
    "name": "ipython",
    "version": 3
   },
   "file_extension": ".py",
   "mimetype": "text/x-python",
   "name": "python",
   "nbconvert_exporter": "python",
   "pygments_lexer": "ipython3",
   "version": "3.8.8"
  },
  "orig_nbformat": 4
 },
 "nbformat": 4,
 "nbformat_minor": 2
}
