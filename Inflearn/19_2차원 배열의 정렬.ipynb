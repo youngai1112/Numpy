{
 "cells": [
  {
   "cell_type": "code",
   "execution_count": 1,
   "metadata": {},
   "outputs": [],
   "source": [
    "import numpy as np"
   ]
  },
  {
   "cell_type": "code",
   "execution_count": 3,
   "metadata": {},
   "outputs": [
    {
     "name": "stdout",
     "output_type": "stream",
     "text": [
      "[[14  9  8 13]\n",
      " [ 5 11  7  2]\n",
      " [ 5  8  8  4]]\n"
     ]
    }
   ],
   "source": [
    "arr = np.random.randint(15, size=(3,4))\n",
    "print(arr)"
   ]
  },
  {
   "cell_type": "code",
   "execution_count": 4,
   "metadata": {},
   "outputs": [
    {
     "name": "stdout",
     "output_type": "stream",
     "text": [
      "[[ 5  8  7  2]\n",
      " [ 5  9  8  4]\n",
      " [14 11  8 13]]\n"
     ]
    }
   ],
   "source": [
    "# x축 기준 정렬\n",
    "print(np.sort(arr, axis=0))"
   ]
  },
  {
   "cell_type": "code",
   "execution_count": 5,
   "metadata": {},
   "outputs": [
    {
     "name": "stdout",
     "output_type": "stream",
     "text": [
      "[ 2  4  5  5  7  8  8  8  9 11 13 14]\n"
     ]
    }
   ],
   "source": [
    "# 2차원 배열을 1차원 배열로 변경\n",
    "print(np.sort(arr, axis=None))"
   ]
  },
  {
   "cell_type": "code",
   "execution_count": 7,
   "metadata": {},
   "outputs": [
    {
     "name": "stdout",
     "output_type": "stream",
     "text": [
      "[[ 8  9 13 14]\n",
      " [ 2  5  7 11]\n",
      " [ 4  5  8  8]]\n",
      "[[2 1 3 0]\n",
      " [3 0 2 1]\n",
      " [3 0 1 2]]\n"
     ]
    }
   ],
   "source": [
    "# argsort()\n",
    "print(np.sort(arr, axis=1))\n",
    "print(np.argsort(arr, axis=1))  # 원래 배열에서 몇 번째에 위치했는지"
   ]
  },
  {
   "cell_type": "code",
   "execution_count": null,
   "metadata": {},
   "outputs": [],
   "source": []
  }
 ],
 "metadata": {
  "interpreter": {
   "hash": "237dfbe96289c26a34bb3817ed9a5dda5a1f28f78dcc25894f58473fa7732fcf"
  },
  "kernelspec": {
   "display_name": "Python 3.8.8 64-bit",
   "language": "python",
   "name": "python3"
  },
  "language_info": {
   "codemirror_mode": {
    "name": "ipython",
    "version": 3
   },
   "file_extension": ".py",
   "mimetype": "text/x-python",
   "name": "python",
   "nbconvert_exporter": "python",
   "pygments_lexer": "ipython3",
   "version": "3.8.8"
  },
  "orig_nbformat": 4
 },
 "nbformat": 4,
 "nbformat_minor": 2
}
