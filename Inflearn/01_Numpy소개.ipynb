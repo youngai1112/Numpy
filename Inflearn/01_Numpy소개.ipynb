{
 "cells": [
  {
   "cell_type": "markdown",
   "metadata": {},
   "source": [
    "## 개념\n",
    "1. 넘파이는 데이터 각 분야에서 사용되는 머신러닝, 딥러닝 기반 운용 라이브러리\n",
    "2. 다차원 배열, 데이터 처리를 위한 수치연산이 가능\n",
    "3. 라이브러리가 내부적으로 C언어로 구성이 되어있음\n",
    "    - 메모리를 최소한으로 유지하고 관리하면서, 동시에 연산속도도 매우 빠름"
   ]
  },
  {
   "cell_type": "markdown",
   "metadata": {},
   "source": [
    "## 다차원 배열 사용 이유\n",
    "1. 데이터를 처리할 때, 데이터는 숫자들의 배열로 이루어져 있다. \n",
    "2. 예를 들어, 이미지 파일의 경우 2차원의 다차원 배열로 구성되어 있음을 알 수 있다. \n",
    "    - 픽셀 하나에 0~255까지의 숫자 데이터로 이루어져 있다.\n",
    "3. 이처럼 데이터를 배열로 저장하고 구성하고, 이용하는 것이 데이터를 처리하는 가장 기본적인 절차가 된다.\n"
   ]
  }
 ],
 "metadata": {
  "interpreter": {
   "hash": "237dfbe96289c26a34bb3817ed9a5dda5a1f28f78dcc25894f58473fa7732fcf"
  },
  "kernelspec": {
   "display_name": "Python 3.8.8 64-bit",
   "language": "python",
   "name": "python3"
  },
  "language_info": {
   "name": "python",
   "version": "3.8.8"
  },
  "orig_nbformat": 4
 },
 "nbformat": 4,
 "nbformat_minor": 2
}
