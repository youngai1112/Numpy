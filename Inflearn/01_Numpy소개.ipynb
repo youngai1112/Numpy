{
 "cells": [
  {
   "cell_type": "markdown",
   "metadata": {},
   "source": [
    "## 개념\n",
    "1. 넘파이는 데이터 각 분야에서 사용되는 머신러닝, 딥러닝 기반 운용 라이브러리\n",
    "2. 다차원 배열, 데이터 처리를 위한 수치연산이 가능\n",
    "3. 라이브러리가 내부적으로 C언어로 구성이 되어있음\n",
    "    - 메모리를 최소한으로 유지하고 관리하면서, 동시에 연산속도도 매우 빠름"
   ]
  },
  {
   "cell_type": "markdown",
   "metadata": {},
   "source": []
  }
 ],
 "metadata": {
  "interpreter": {
   "hash": "237dfbe96289c26a34bb3817ed9a5dda5a1f28f78dcc25894f58473fa7732fcf"
  },
  "kernelspec": {
   "display_name": "Python 3.8.8 64-bit",
   "language": "python",
   "name": "python3"
  },
  "language_info": {
   "name": "python",
   "version": "3.8.8"
  },
  "orig_nbformat": 4
 },
 "nbformat": 4,
 "nbformat_minor": 2
}
